{
  "nbformat": 4,
  "nbformat_minor": 0,
  "metadata": {
    "colab": {
      "provenance": [],
      "authorship_tag": "ABX9TyMXlQ0FcEj2ylzjUqOPby/S",
      "include_colab_link": true
    },
    "kernelspec": {
      "name": "python3",
      "display_name": "Python 3"
    },
    "language_info": {
      "name": "python"
    }
  },
  "cells": [
    {
      "cell_type": "markdown",
      "metadata": {
        "id": "view-in-github",
        "colab_type": "text"
      },
      "source": [
        "<a href=\"https://colab.research.google.com/github/alaudee/rf_model_credit_default_classification/blob/main/random_oti_GA.ipynb\" target=\"_parent\"><img src=\"https://colab.research.google.com/assets/colab-badge.svg\" alt=\"Open In Colab\"/></a>"
      ]
    },
    {
      "cell_type": "code",
      "execution_count": 10,
      "metadata": {
        "id": "jXcc3j_4CFe6"
      },
      "outputs": [],
      "source": [
        "import seaborn as sns\n",
        "import pandas as pd\n",
        "import matplotlib.pyplot as plt\n",
        "import numpy as np\n",
        "import plotly.express as px\n",
        "import pygad as pygad\n",
        "\n",
        "from sklearn.impute import SimpleImputer\n",
        "from scipy import stats\n",
        "from sklearn.compose import make_column_transformer\n",
        "from sklearn.preprocessing import OneHotEncoder\n",
        "from sklearn.preprocessing import StandardScaler\n",
        "from sklearn.preprocessing import RobustScaler\n",
        "from sklearn.model_selection import train_test_split\n",
        "from sklearn.metrics import recall_score\n",
        "from sklearn.ensemble import RandomForestClassifier\n",
        "from sklearn.model_selection import train_test_split, KFold, cross_val_score"
      ]
    },
    {
      "cell_type": "code",
      "source": [
        "arquivo_dat = 'australian.dat'\n",
        "arquivo_csv = 'australian.csv'\n",
        "\n",
        "columns_names = ['A1','A2','A3','A4','A5','A6','A7','A8','A9','A10','A11','A12','A13','A14','A15']\n",
        "\n",
        "df = pd.read_csv(arquivo_dat, sep='\\s+', header = None, names = columns_names)\n",
        "\n",
        "df.to_csv(arquivo_csv, index=False)\n",
        "\n",
        "print(f\"Arquivo '{arquivo_dat}' convertido para '{arquivo_csv}' com sucesso!\")\n",
        "\n",
        "base = pd.read_csv('australian.csv')"
      ],
      "metadata": {
        "colab": {
          "base_uri": "https://localhost:8080/"
        },
        "id": "xYGIf07Ny4VH",
        "outputId": "411ff8dc-4573-4783-b64a-6a57933dd057"
      },
      "execution_count": 11,
      "outputs": [
        {
          "output_type": "stream",
          "name": "stdout",
          "text": [
            "Arquivo 'australian.dat' convertido para 'australian.csv' com sucesso!\n"
          ]
        },
        {
          "output_type": "stream",
          "name": "stderr",
          "text": [
            "<>:6: SyntaxWarning: invalid escape sequence '\\s'\n",
            "<>:6: SyntaxWarning: invalid escape sequence '\\s'\n",
            "/tmp/ipython-input-3538067993.py:6: SyntaxWarning: invalid escape sequence '\\s'\n",
            "  df = pd.read_csv(arquivo_dat, sep='\\s+', header = None, names = columns_names)\n"
          ]
        }
      ]
    },
    {
      "cell_type": "code",
      "source": [
        "column_names = base.columns\n",
        "\n",
        "imputer = SimpleImputer(missing_values = np.nan, strategy='median')\n",
        "\n",
        "# Fit the imputer to the data and transform it\n",
        "imputed_base = imputer.fit_transform(base)\n",
        "\n",
        "imputed_base_df = pd.DataFrame(imputed_base, columns=column_names)\n",
        "\n",
        "print(\"Original Data:\\n\", base)\n",
        "print(\"\\nImputed Data:\\n\", imputed_base_df)"
      ],
      "metadata": {
        "colab": {
          "base_uri": "https://localhost:8080/"
        },
        "collapsed": true,
        "id": "aO8o6Oody58_",
        "outputId": "52d27b63-f1a4-473b-928d-6bfd84a6cce2"
      },
      "execution_count": 12,
      "outputs": [
        {
          "output_type": "stream",
          "name": "stdout",
          "text": [
            "Original Data:\n",
            "      A1     A2      A3  A4  A5  A6     A7  A8  A9  A10  A11  A12  A13   A14  \\\n",
            "0     1  22.08  11.460   2   4   4  1.585   0   0    0    1    2  100  1213   \n",
            "1     0  22.67   7.000   2   8   4  0.165   0   0    0    0    2  160     1   \n",
            "2     0  29.58   1.750   1   4   4  1.250   0   0    0    1    2  280     1   \n",
            "3     0  21.67  11.500   1   5   3  0.000   1   1   11    1    2    0     1   \n",
            "4     1  20.17   8.170   2   6   4  1.960   1   1   14    0    2   60   159   \n",
            "..   ..    ...     ...  ..  ..  ..    ...  ..  ..  ...  ...  ...  ...   ...   \n",
            "685   1  31.57  10.500   2  14   4  6.500   1   0    0    0    2    0     1   \n",
            "686   1  20.67   0.415   2   8   4  0.125   0   0    0    0    2    0    45   \n",
            "687   0  18.83   9.540   2   6   4  0.085   1   0    0    0    2  100     1   \n",
            "688   0  27.42  14.500   2  14   8  3.085   1   1    1    0    2  120    12   \n",
            "689   1  41.00   0.040   2  10   4  0.040   0   1    1    0    1  560     1   \n",
            "\n",
            "     A15  \n",
            "0      0  \n",
            "1      0  \n",
            "2      0  \n",
            "3      1  \n",
            "4      1  \n",
            "..   ...  \n",
            "685    1  \n",
            "686    0  \n",
            "687    1  \n",
            "688    1  \n",
            "689    1  \n",
            "\n",
            "[690 rows x 15 columns]\n",
            "\n",
            "Imputed Data:\n",
            "       A1     A2      A3   A4    A5   A6     A7   A8   A9   A10  A11  A12  \\\n",
            "0    1.0  22.08  11.460  2.0   4.0  4.0  1.585  0.0  0.0   0.0  1.0  2.0   \n",
            "1    0.0  22.67   7.000  2.0   8.0  4.0  0.165  0.0  0.0   0.0  0.0  2.0   \n",
            "2    0.0  29.58   1.750  1.0   4.0  4.0  1.250  0.0  0.0   0.0  1.0  2.0   \n",
            "3    0.0  21.67  11.500  1.0   5.0  3.0  0.000  1.0  1.0  11.0  1.0  2.0   \n",
            "4    1.0  20.17   8.170  2.0   6.0  4.0  1.960  1.0  1.0  14.0  0.0  2.0   \n",
            "..   ...    ...     ...  ...   ...  ...    ...  ...  ...   ...  ...  ...   \n",
            "685  1.0  31.57  10.500  2.0  14.0  4.0  6.500  1.0  0.0   0.0  0.0  2.0   \n",
            "686  1.0  20.67   0.415  2.0   8.0  4.0  0.125  0.0  0.0   0.0  0.0  2.0   \n",
            "687  0.0  18.83   9.540  2.0   6.0  4.0  0.085  1.0  0.0   0.0  0.0  2.0   \n",
            "688  0.0  27.42  14.500  2.0  14.0  8.0  3.085  1.0  1.0   1.0  0.0  2.0   \n",
            "689  1.0  41.00   0.040  2.0  10.0  4.0  0.040  0.0  1.0   1.0  0.0  1.0   \n",
            "\n",
            "       A13     A14  A15  \n",
            "0    100.0  1213.0  0.0  \n",
            "1    160.0     1.0  0.0  \n",
            "2    280.0     1.0  0.0  \n",
            "3      0.0     1.0  1.0  \n",
            "4     60.0   159.0  1.0  \n",
            "..     ...     ...  ...  \n",
            "685    0.0     1.0  1.0  \n",
            "686    0.0    45.0  0.0  \n",
            "687  100.0     1.0  1.0  \n",
            "688  120.0    12.0  1.0  \n",
            "689  560.0     1.0  1.0  \n",
            "\n",
            "[690 rows x 15 columns]\n"
          ]
        }
      ]
    },
    {
      "cell_type": "code",
      "source": [
        "X = imputed_base_df.drop('A15', axis=1)\n",
        "y = imputed_base_df['A15']\n",
        "\n",
        "# Dividir os dados em treino e teste com 30% para teste (test_size = 0.3)\n",
        "\n",
        "X_train, X_test, y_train, y_test = train_test_split(X, y, test_size = 0.3)\n",
        "\n",
        "'''\n",
        "Escalonamento dos dados\n",
        "'''\n",
        "\n",
        "# Inicializa scalers\n",
        "scaler = StandardScaler()\n",
        "\n",
        "# for col in X.columns:\n",
        "#   X[col] = scaler_standard.fit_transform(X[[col]])\n",
        "\n",
        "# X.head()\n",
        "\n",
        "scaler.fit(X_train)\n",
        "X_train = scaler.transform(X_train)\n",
        "X_test = scaler.transform(X_test)\n",
        "\n",
        "X_train"
      ],
      "metadata": {
        "colab": {
          "base_uri": "https://localhost:8080/"
        },
        "id": "swznVBgvzFON",
        "outputId": "daf76ed2-eccf-4216-a3fe-286ed060f3d1",
        "collapsed": true
      },
      "execution_count": 13,
      "outputs": [
        {
          "output_type": "execute_result",
          "data": {
            "text/plain": [
              "array([[-1.44781002,  0.00632013, -0.24436123, ...,  0.22447421,\n",
              "         0.6394979 , -0.18392714],\n",
              "       [ 0.69069836, -1.19228195,  1.05047674, ...,  0.22447421,\n",
              "        -0.37014394, -0.18374945],\n",
              "       [ 0.69069836, -0.16417438,  0.00464607, ...,  0.22447421,\n",
              "         1.53695731, -0.17184367],\n",
              "       ...,\n",
              "       [-1.44781002, -0.55656877, -0.76727656, ...,  0.22447421,\n",
              "        -0.14577909,  0.85738398],\n",
              "       [ 0.69069836,  0.44326585, -0.54316999, ...,  0.22447421,\n",
              "         0.19637731, -0.18392714],\n",
              "       [ 0.69069836,  0.42184694, -0.79217729, ...,  0.22447421,\n",
              "         0.30295062, -0.18339405]])"
            ]
          },
          "metadata": {},
          "execution_count": 13
        }
      ]
    },
    {
      "cell_type": "code",
      "source": [
        "# SEED para manter a replicabilidade do algoritmo\n",
        "# dict para armazenar os melhores hiperparametros p/ fold executada\n",
        "\n",
        "SEED = 5\n",
        "best_hyperparams_per_fold = {}"
      ],
      "metadata": {
        "id": "wFVJxO3x2pUi"
      },
      "execution_count": 14,
      "outputs": []
    },
    {
      "cell_type": "code",
      "source": [
        "'''\n",
        "Função para gerar um modelo do tipo RandomForestClassifier\n",
        "'''\n",
        "\n",
        "# macro para n instanciar muitas vezes\n",
        "TEMP_CRITERION = ''\n",
        "def create_rf_model(hyperparameters):\n",
        "  # converte a solucao de float para inteiro\n",
        "  solution = solution.astype(int)\n",
        "\n",
        "  '''\n",
        "  regra para poder variar entre valores para o hiperparâmetro\n",
        "  critetion = ['gini', 'entropy'], dado que nativamente pelo\n",
        "  atributo da classe pyGAD, gene_space não suporta tipo de dados\n",
        "  string\n",
        "  '''\n",
        "\n",
        "  if solution[4] == 1:\n",
        "    TEMP_CRITERION = 'gini'\n",
        "  elif solution[4] == 2:\n",
        "    TEMP_CRITERION = 'entropy'\n",
        "\n",
        "  rf = RandomForestClassifier(n_estimators=hyperparameters[0], max_depth=hyperparameters[1], min_samples_split=hyperparameters[2], min_samples_leaf=hyperparameters[3], criterion=TEMP_CRITERION, random_state=SEED)\n",
        "\n",
        "  return rf"
      ],
      "metadata": {
        "id": "fnWUqJeB1xrL"
      },
      "execution_count": 15,
      "outputs": []
    },
    {
      "cell_type": "code",
      "source": [
        "'''\n",
        "Função fitness para otimização por AG\n",
        "'''\n",
        "\n",
        "def fitness(ga_instance, solution, solution_idx):\n",
        "\n",
        "  # from pdb import set_trace; set_trace()\n",
        "\n",
        "  rf = create_rf_model(solution)\n",
        "  # rf = RandomForestClassifier(n_estimators=solution[0], max_depth=solution[1], min_samples_split=solution[2], min_samples_leaf=solution[3], criterion=TEMP_CRITERION, random_state=42)\n",
        "\n",
        "  rf.fit(X_inner_train[train_inner_index], y_inner_train[train_inner_index])\n",
        "\n",
        "  y_pred = rf.predict(X_inner_train[test_inner_index])\n",
        "\n",
        "  recall = recall_score(y_inner_train[test_inner_index], y_pred, average = 'weighted')\n",
        "\n",
        "  return recall"
      ],
      "metadata": {
        "id": "pr_XiHoKZGxc"
      },
      "execution_count": 16,
      "outputs": []
    },
    {
      "cell_type": "code",
      "source": [
        "def create_ga_class():\n",
        "  ga_instance = pygad.GA(\n",
        "    num_generations=50,\n",
        "    num_parents_mating=4,\n",
        "    fitness_func=fitness,\n",
        "    sol_per_pop=20,\n",
        "    num_genes=5,\n",
        "    gene_space=[range(50, 201), range(10, 20), range(5, 51), range(5, 51), [1, 2]],\n",
        "    parent_selection_type=\"tournament\",\n",
        "    crossover_type=\"uniform\",\n",
        "    mutation_type=\"random\",\n",
        "    mutation_percent_genes=15\n",
        "    )\n",
        "\n",
        "  return ga_instance"
      ],
      "metadata": {
        "id": "zD7GS4Ca-I3V"
      },
      "execution_count": 17,
      "outputs": []
    },
    {
      "cell_type": "code",
      "source": [
        "'''\n",
        "Instanciação do modelo Random Forest sem otimização de hiperparâmetros\n",
        "'''\n",
        "\n",
        "rf_model = RandomForestClassifier(random_state = SEED)\n",
        "\n",
        "kf = KFold(n_splits=10, random_state = SEED, shuffle = True)\n",
        "kf_inner = KFold(n_splits = 2, random_state = SEED, shuffle = True)\n",
        "\n",
        "for train_outer_index, test_outer_index in kf.split(X_train, y_train):\n",
        "    print(\"TRAIN:\", train_outer_index, \"TEST:\", test_outer_index)\n",
        "\n",
        "    X_inner_train, X_inner_test = X_train[train_outer_index], X_train[test_outer_index]\n",
        "    y_inner_train, y_inner_test = y_train[train_outer_index], y_train[test_outer_index]\n",
        "\n",
        "    for train_inner_index, test_inner_index in kf_inner.split(X_inner_train, y_inner_train):\n",
        "        print(\"TRAIN:\", train_inner_index, \"TEST:\", test_inner_index)\n",
        "\n",
        "        ga_instance = create_ga_class()\n",
        "\n",
        "        ga_instance.run()\n",
        "\n",
        "        solution, solution_fitness, solution_idx = ga_instance.best_solution()\n",
        "\n",
        "\n",
        "# modelo = RandomForestClassifier(random_state = SEED, n_estimators = 10)\n",
        "\n",
        "# #performing cross-validation\n",
        "# cv_scores = cross_val_score(modelo, X_train, y_train, cv=k_fold, scoring='recall')\n",
        "# print(\"Cross Validation Scores: \", cv_scores)\n",
        "# print(\"Average CV Score: \", cv_scores.mean())\n",
        "# print(\"Number of CV Scores used in Average: \", len(cv_scores))\n",
        "\n",
        "# modelo.fit(X_train, y_train)\n",
        "\n",
        "# y_predict = modelo.predict(X_test)\n",
        "# y_predict"
      ],
      "metadata": {
        "colab": {
          "base_uri": "https://localhost:8080/",
          "height": 954
        },
        "collapsed": true,
        "id": "TbmGmUMWzJEb",
        "outputId": "c717abe9-d8f4-421b-f272-2b5160548b09"
      },
      "execution_count": 18,
      "outputs": [
        {
          "output_type": "stream",
          "name": "stdout",
          "text": [
            "TRAIN: [  0   1   2   3   4   5   6   7   8   9  10  11  12  13  14  15  16  17\n",
            "  18  19  20  21  22  23  24  25  26  27  29  30  31  32  33  35  36  37\n",
            "  38  39  41  42  44  45  46  47  48  49  51  52  53  54  55  57  58  59\n",
            "  60  61  62  63  64  65  66  67  68  69  70  72  73  74  75  76  77  78\n",
            "  79  80  81  82  83  84  85  86  87  88  89  91  92  93  94  95  96  97\n",
            "  98  99 100 101 102 103 104 105 106 107 108 109 110 111 112 113 114 115\n",
            " 118 119 120 121 122 123 124 125 126 127 128 129 130 131 133 134 135 136\n",
            " 137 138 140 142 143 144 145 146 147 148 149 150 151 152 153 154 156 157\n",
            " 158 159 160 161 163 164 165 166 167 168 169 170 171 172 173 174 175 176\n",
            " 177 178 179 180 181 182 183 184 185 187 188 189 190 192 193 194 195 196\n",
            " 197 198 199 200 201 202 203 204 205 206 207 208 209 210 211 213 214 215\n",
            " 216 217 218 219 220 221 224 225 226 227 228 229 230 231 232 233 235 236\n",
            " 238 239 241 243 244 245 246 247 249 250 251 252 253 254 255 256 257 258\n",
            " 259 260 261 262 264 265 266 267 268 269 270 271 272 273 274 275 276 278\n",
            " 279 280 282 283 285 286 287 288 289 290 291 293 294 295 296 297 300 301\n",
            " 302 303 304 305 306 308 309 310 311 313 314 315 316 317 318 320 323 324\n",
            " 325 326 327 328 329 330 331 332 333 335 336 337 338 339 340 341 342 343\n",
            " 344 345 346 347 348 351 352 353 354 355 356 357 358 359 360 361 362 363\n",
            " 364 365 366 367 368 369 370 371 372 373 374 375 376 377 378 380 381 382\n",
            " 383 384 385 386 387 388 389 390 391 392 393 394 395 396 397 398 399 400\n",
            " 401 402 403 404 405 406 407 408 409 411 412 413 414 415 416 417 418 419\n",
            " 420 421 422 423 424 426 427 428 429 430 431 432 433 435 436 437 438 439\n",
            " 440 441 442 443 444 445 446 447 449 450 451 452 453 455 456 457 458 459\n",
            " 460 461 462 463 465 466 467 468 470 471 472 473 474 476 477 478 479 480\n",
            " 481 482] TEST: [ 28  34  40  43  50  56  71  90 116 117 132 139 141 155 162 186 191 212\n",
            " 222 223 234 237 240 242 248 263 277 281 284 292 298 299 307 312 319 321\n",
            " 322 334 349 350 379 410 425 434 448 454 464 469 475]\n"
          ]
        },
        {
          "output_type": "error",
          "ename": "KeyError",
          "evalue": "'[9, 11, 18, 23, 27, 36, 37, 38, 53, 65, 69, 73, 75, 77, 78, 81, 83, 89, 94, 101, 102, 104, 120, 124, 125, 126, 131, 134, 143, 147, 151, 154, 163, 164, 166, 168, 169, 170, 174, 176, 188, 190, 192, 194, 198, 204, 207, 214, 217, 218, 219, 220, 221, 229, 243, 250, 253, 254, 256, 258, 259, 267, 268, 271, 282, 283, 286, 291, 293, 295, 296, 300, 304, 306, 309, 311, 313, 328, 329, 336, 337, 343, 346, 347, 348, 351, 352, 353, 355, 357, 359, 361, 366, 367, 371, 375, 376, 378, 380, 381, 388, 389, 394, 404, 405, 407, 409, 411, 413, 414, 428, 429, 430, 431, 432, 436, 439, 443, 446, 457, 458, 462, 465, 467, 470, 473, 479] not in index'",
          "traceback": [
            "\u001b[0;31m---------------------------------------------------------------------------\u001b[0m",
            "\u001b[0;31mKeyError\u001b[0m                                  Traceback (most recent call last)",
            "\u001b[0;32m/tmp/ipython-input-1541203856.py\u001b[0m in \u001b[0;36m<cell line: 0>\u001b[0;34m()\u001b[0m\n\u001b[1;32m     12\u001b[0m \u001b[0;34m\u001b[0m\u001b[0m\n\u001b[1;32m     13\u001b[0m     \u001b[0mX_inner_train\u001b[0m\u001b[0;34m,\u001b[0m \u001b[0mX_inner_test\u001b[0m \u001b[0;34m=\u001b[0m \u001b[0mX_train\u001b[0m\u001b[0;34m[\u001b[0m\u001b[0mtrain_outer_index\u001b[0m\u001b[0;34m]\u001b[0m\u001b[0;34m,\u001b[0m \u001b[0mX_train\u001b[0m\u001b[0;34m[\u001b[0m\u001b[0mtest_outer_index\u001b[0m\u001b[0;34m]\u001b[0m\u001b[0;34m\u001b[0m\u001b[0;34m\u001b[0m\u001b[0m\n\u001b[0;32m---> 14\u001b[0;31m     \u001b[0my_inner_train\u001b[0m\u001b[0;34m,\u001b[0m \u001b[0my_inner_test\u001b[0m \u001b[0;34m=\u001b[0m \u001b[0my_train\u001b[0m\u001b[0;34m[\u001b[0m\u001b[0mtrain_outer_index\u001b[0m\u001b[0;34m]\u001b[0m\u001b[0;34m,\u001b[0m \u001b[0my_train\u001b[0m\u001b[0;34m[\u001b[0m\u001b[0mtest_outer_index\u001b[0m\u001b[0;34m]\u001b[0m\u001b[0;34m\u001b[0m\u001b[0;34m\u001b[0m\u001b[0m\n\u001b[0m\u001b[1;32m     15\u001b[0m \u001b[0;34m\u001b[0m\u001b[0m\n\u001b[1;32m     16\u001b[0m     \u001b[0;32mfor\u001b[0m \u001b[0mtrain_inner_index\u001b[0m\u001b[0;34m,\u001b[0m \u001b[0mtest_inner_index\u001b[0m \u001b[0;32min\u001b[0m \u001b[0mkf_inner\u001b[0m\u001b[0;34m.\u001b[0m\u001b[0msplit\u001b[0m\u001b[0;34m(\u001b[0m\u001b[0mX_inner_train\u001b[0m\u001b[0;34m,\u001b[0m \u001b[0my_inner_train\u001b[0m\u001b[0;34m)\u001b[0m\u001b[0;34m:\u001b[0m\u001b[0;34m\u001b[0m\u001b[0;34m\u001b[0m\u001b[0m\n",
            "\u001b[0;32m/usr/local/lib/python3.12/dist-packages/pandas/core/series.py\u001b[0m in \u001b[0;36m__getitem__\u001b[0;34m(self, key)\u001b[0m\n\u001b[1;32m   1151\u001b[0m             \u001b[0;32mreturn\u001b[0m \u001b[0mself\u001b[0m\u001b[0;34m.\u001b[0m\u001b[0m_get_rows_with_mask\u001b[0m\u001b[0;34m(\u001b[0m\u001b[0mkey\u001b[0m\u001b[0;34m)\u001b[0m\u001b[0;34m\u001b[0m\u001b[0;34m\u001b[0m\u001b[0m\n\u001b[1;32m   1152\u001b[0m \u001b[0;34m\u001b[0m\u001b[0m\n\u001b[0;32m-> 1153\u001b[0;31m         \u001b[0;32mreturn\u001b[0m \u001b[0mself\u001b[0m\u001b[0;34m.\u001b[0m\u001b[0m_get_with\u001b[0m\u001b[0;34m(\u001b[0m\u001b[0mkey\u001b[0m\u001b[0;34m)\u001b[0m\u001b[0;34m\u001b[0m\u001b[0;34m\u001b[0m\u001b[0m\n\u001b[0m\u001b[1;32m   1154\u001b[0m \u001b[0;34m\u001b[0m\u001b[0m\n\u001b[1;32m   1155\u001b[0m     \u001b[0;32mdef\u001b[0m \u001b[0m_get_with\u001b[0m\u001b[0;34m(\u001b[0m\u001b[0mself\u001b[0m\u001b[0;34m,\u001b[0m \u001b[0mkey\u001b[0m\u001b[0;34m)\u001b[0m\u001b[0;34m:\u001b[0m\u001b[0;34m\u001b[0m\u001b[0;34m\u001b[0m\u001b[0m\n",
            "\u001b[0;32m/usr/local/lib/python3.12/dist-packages/pandas/core/series.py\u001b[0m in \u001b[0;36m_get_with\u001b[0;34m(self, key)\u001b[0m\n\u001b[1;32m   1178\u001b[0m             \u001b[0;31m#  (i.e. self.iloc) or label-based (i.e. self.loc)\u001b[0m\u001b[0;34m\u001b[0m\u001b[0;34m\u001b[0m\u001b[0m\n\u001b[1;32m   1179\u001b[0m             \u001b[0;32mif\u001b[0m \u001b[0;32mnot\u001b[0m \u001b[0mself\u001b[0m\u001b[0;34m.\u001b[0m\u001b[0mindex\u001b[0m\u001b[0;34m.\u001b[0m\u001b[0m_should_fallback_to_positional\u001b[0m\u001b[0;34m:\u001b[0m\u001b[0;34m\u001b[0m\u001b[0;34m\u001b[0m\u001b[0m\n\u001b[0;32m-> 1180\u001b[0;31m                 \u001b[0;32mreturn\u001b[0m \u001b[0mself\u001b[0m\u001b[0;34m.\u001b[0m\u001b[0mloc\u001b[0m\u001b[0;34m[\u001b[0m\u001b[0mkey\u001b[0m\u001b[0;34m]\u001b[0m\u001b[0;34m\u001b[0m\u001b[0;34m\u001b[0m\u001b[0m\n\u001b[0m\u001b[1;32m   1181\u001b[0m             \u001b[0;32melse\u001b[0m\u001b[0;34m:\u001b[0m\u001b[0;34m\u001b[0m\u001b[0;34m\u001b[0m\u001b[0m\n\u001b[1;32m   1182\u001b[0m                 warnings.warn(\n",
            "\u001b[0;32m/usr/local/lib/python3.12/dist-packages/pandas/core/indexing.py\u001b[0m in \u001b[0;36m__getitem__\u001b[0;34m(self, key)\u001b[0m\n\u001b[1;32m   1189\u001b[0m             \u001b[0mmaybe_callable\u001b[0m \u001b[0;34m=\u001b[0m \u001b[0mcom\u001b[0m\u001b[0;34m.\u001b[0m\u001b[0mapply_if_callable\u001b[0m\u001b[0;34m(\u001b[0m\u001b[0mkey\u001b[0m\u001b[0;34m,\u001b[0m \u001b[0mself\u001b[0m\u001b[0;34m.\u001b[0m\u001b[0mobj\u001b[0m\u001b[0;34m)\u001b[0m\u001b[0;34m\u001b[0m\u001b[0;34m\u001b[0m\u001b[0m\n\u001b[1;32m   1190\u001b[0m             \u001b[0mmaybe_callable\u001b[0m \u001b[0;34m=\u001b[0m \u001b[0mself\u001b[0m\u001b[0;34m.\u001b[0m\u001b[0m_check_deprecated_callable_usage\u001b[0m\u001b[0;34m(\u001b[0m\u001b[0mkey\u001b[0m\u001b[0;34m,\u001b[0m \u001b[0mmaybe_callable\u001b[0m\u001b[0;34m)\u001b[0m\u001b[0;34m\u001b[0m\u001b[0;34m\u001b[0m\u001b[0m\n\u001b[0;32m-> 1191\u001b[0;31m             \u001b[0;32mreturn\u001b[0m \u001b[0mself\u001b[0m\u001b[0;34m.\u001b[0m\u001b[0m_getitem_axis\u001b[0m\u001b[0;34m(\u001b[0m\u001b[0mmaybe_callable\u001b[0m\u001b[0;34m,\u001b[0m \u001b[0maxis\u001b[0m\u001b[0;34m=\u001b[0m\u001b[0maxis\u001b[0m\u001b[0;34m)\u001b[0m\u001b[0;34m\u001b[0m\u001b[0;34m\u001b[0m\u001b[0m\n\u001b[0m\u001b[1;32m   1192\u001b[0m \u001b[0;34m\u001b[0m\u001b[0m\n\u001b[1;32m   1193\u001b[0m     \u001b[0;32mdef\u001b[0m \u001b[0m_is_scalar_access\u001b[0m\u001b[0;34m(\u001b[0m\u001b[0mself\u001b[0m\u001b[0;34m,\u001b[0m \u001b[0mkey\u001b[0m\u001b[0;34m:\u001b[0m \u001b[0mtuple\u001b[0m\u001b[0;34m)\u001b[0m\u001b[0;34m:\u001b[0m\u001b[0;34m\u001b[0m\u001b[0;34m\u001b[0m\u001b[0m\n",
            "\u001b[0;32m/usr/local/lib/python3.12/dist-packages/pandas/core/indexing.py\u001b[0m in \u001b[0;36m_getitem_axis\u001b[0;34m(self, key, axis)\u001b[0m\n\u001b[1;32m   1418\u001b[0m                     \u001b[0;32mraise\u001b[0m \u001b[0mValueError\u001b[0m\u001b[0;34m(\u001b[0m\u001b[0;34m\"Cannot index with multidimensional key\"\u001b[0m\u001b[0;34m)\u001b[0m\u001b[0;34m\u001b[0m\u001b[0;34m\u001b[0m\u001b[0m\n\u001b[1;32m   1419\u001b[0m \u001b[0;34m\u001b[0m\u001b[0m\n\u001b[0;32m-> 1420\u001b[0;31m                 \u001b[0;32mreturn\u001b[0m \u001b[0mself\u001b[0m\u001b[0;34m.\u001b[0m\u001b[0m_getitem_iterable\u001b[0m\u001b[0;34m(\u001b[0m\u001b[0mkey\u001b[0m\u001b[0;34m,\u001b[0m \u001b[0maxis\u001b[0m\u001b[0;34m=\u001b[0m\u001b[0maxis\u001b[0m\u001b[0;34m)\u001b[0m\u001b[0;34m\u001b[0m\u001b[0;34m\u001b[0m\u001b[0m\n\u001b[0m\u001b[1;32m   1421\u001b[0m \u001b[0;34m\u001b[0m\u001b[0m\n\u001b[1;32m   1422\u001b[0m             \u001b[0;31m# nested tuple slicing\u001b[0m\u001b[0;34m\u001b[0m\u001b[0;34m\u001b[0m\u001b[0m\n",
            "\u001b[0;32m/usr/local/lib/python3.12/dist-packages/pandas/core/indexing.py\u001b[0m in \u001b[0;36m_getitem_iterable\u001b[0;34m(self, key, axis)\u001b[0m\n\u001b[1;32m   1358\u001b[0m \u001b[0;34m\u001b[0m\u001b[0m\n\u001b[1;32m   1359\u001b[0m         \u001b[0;31m# A collection of keys\u001b[0m\u001b[0;34m\u001b[0m\u001b[0;34m\u001b[0m\u001b[0m\n\u001b[0;32m-> 1360\u001b[0;31m         \u001b[0mkeyarr\u001b[0m\u001b[0;34m,\u001b[0m \u001b[0mindexer\u001b[0m \u001b[0;34m=\u001b[0m \u001b[0mself\u001b[0m\u001b[0;34m.\u001b[0m\u001b[0m_get_listlike_indexer\u001b[0m\u001b[0;34m(\u001b[0m\u001b[0mkey\u001b[0m\u001b[0;34m,\u001b[0m \u001b[0maxis\u001b[0m\u001b[0;34m)\u001b[0m\u001b[0;34m\u001b[0m\u001b[0;34m\u001b[0m\u001b[0m\n\u001b[0m\u001b[1;32m   1361\u001b[0m         return self.obj._reindex_with_indexers(\n\u001b[1;32m   1362\u001b[0m             \u001b[0;34m{\u001b[0m\u001b[0maxis\u001b[0m\u001b[0;34m:\u001b[0m \u001b[0;34m[\u001b[0m\u001b[0mkeyarr\u001b[0m\u001b[0;34m,\u001b[0m \u001b[0mindexer\u001b[0m\u001b[0;34m]\u001b[0m\u001b[0;34m}\u001b[0m\u001b[0;34m,\u001b[0m \u001b[0mcopy\u001b[0m\u001b[0;34m=\u001b[0m\u001b[0;32mTrue\u001b[0m\u001b[0;34m,\u001b[0m \u001b[0mallow_dups\u001b[0m\u001b[0;34m=\u001b[0m\u001b[0;32mTrue\u001b[0m\u001b[0;34m\u001b[0m\u001b[0;34m\u001b[0m\u001b[0m\n",
            "\u001b[0;32m/usr/local/lib/python3.12/dist-packages/pandas/core/indexing.py\u001b[0m in \u001b[0;36m_get_listlike_indexer\u001b[0;34m(self, key, axis)\u001b[0m\n\u001b[1;32m   1556\u001b[0m         \u001b[0maxis_name\u001b[0m \u001b[0;34m=\u001b[0m \u001b[0mself\u001b[0m\u001b[0;34m.\u001b[0m\u001b[0mobj\u001b[0m\u001b[0;34m.\u001b[0m\u001b[0m_get_axis_name\u001b[0m\u001b[0;34m(\u001b[0m\u001b[0maxis\u001b[0m\u001b[0;34m)\u001b[0m\u001b[0;34m\u001b[0m\u001b[0;34m\u001b[0m\u001b[0m\n\u001b[1;32m   1557\u001b[0m \u001b[0;34m\u001b[0m\u001b[0m\n\u001b[0;32m-> 1558\u001b[0;31m         \u001b[0mkeyarr\u001b[0m\u001b[0;34m,\u001b[0m \u001b[0mindexer\u001b[0m \u001b[0;34m=\u001b[0m \u001b[0max\u001b[0m\u001b[0;34m.\u001b[0m\u001b[0m_get_indexer_strict\u001b[0m\u001b[0;34m(\u001b[0m\u001b[0mkey\u001b[0m\u001b[0;34m,\u001b[0m \u001b[0maxis_name\u001b[0m\u001b[0;34m)\u001b[0m\u001b[0;34m\u001b[0m\u001b[0;34m\u001b[0m\u001b[0m\n\u001b[0m\u001b[1;32m   1559\u001b[0m \u001b[0;34m\u001b[0m\u001b[0m\n\u001b[1;32m   1560\u001b[0m         \u001b[0;32mreturn\u001b[0m \u001b[0mkeyarr\u001b[0m\u001b[0;34m,\u001b[0m \u001b[0mindexer\u001b[0m\u001b[0;34m\u001b[0m\u001b[0;34m\u001b[0m\u001b[0m\n",
            "\u001b[0;32m/usr/local/lib/python3.12/dist-packages/pandas/core/indexes/base.py\u001b[0m in \u001b[0;36m_get_indexer_strict\u001b[0;34m(self, key, axis_name)\u001b[0m\n\u001b[1;32m   6198\u001b[0m             \u001b[0mkeyarr\u001b[0m\u001b[0;34m,\u001b[0m \u001b[0mindexer\u001b[0m\u001b[0;34m,\u001b[0m \u001b[0mnew_indexer\u001b[0m \u001b[0;34m=\u001b[0m \u001b[0mself\u001b[0m\u001b[0;34m.\u001b[0m\u001b[0m_reindex_non_unique\u001b[0m\u001b[0;34m(\u001b[0m\u001b[0mkeyarr\u001b[0m\u001b[0;34m)\u001b[0m\u001b[0;34m\u001b[0m\u001b[0;34m\u001b[0m\u001b[0m\n\u001b[1;32m   6199\u001b[0m \u001b[0;34m\u001b[0m\u001b[0m\n\u001b[0;32m-> 6200\u001b[0;31m         \u001b[0mself\u001b[0m\u001b[0;34m.\u001b[0m\u001b[0m_raise_if_missing\u001b[0m\u001b[0;34m(\u001b[0m\u001b[0mkeyarr\u001b[0m\u001b[0;34m,\u001b[0m \u001b[0mindexer\u001b[0m\u001b[0;34m,\u001b[0m \u001b[0maxis_name\u001b[0m\u001b[0;34m)\u001b[0m\u001b[0;34m\u001b[0m\u001b[0;34m\u001b[0m\u001b[0m\n\u001b[0m\u001b[1;32m   6201\u001b[0m \u001b[0;34m\u001b[0m\u001b[0m\n\u001b[1;32m   6202\u001b[0m         \u001b[0mkeyarr\u001b[0m \u001b[0;34m=\u001b[0m \u001b[0mself\u001b[0m\u001b[0;34m.\u001b[0m\u001b[0mtake\u001b[0m\u001b[0;34m(\u001b[0m\u001b[0mindexer\u001b[0m\u001b[0;34m)\u001b[0m\u001b[0;34m\u001b[0m\u001b[0;34m\u001b[0m\u001b[0m\n",
            "\u001b[0;32m/usr/local/lib/python3.12/dist-packages/pandas/core/indexes/base.py\u001b[0m in \u001b[0;36m_raise_if_missing\u001b[0;34m(self, key, indexer, axis_name)\u001b[0m\n\u001b[1;32m   6250\u001b[0m \u001b[0;34m\u001b[0m\u001b[0m\n\u001b[1;32m   6251\u001b[0m             \u001b[0mnot_found\u001b[0m \u001b[0;34m=\u001b[0m \u001b[0mlist\u001b[0m\u001b[0;34m(\u001b[0m\u001b[0mensure_index\u001b[0m\u001b[0;34m(\u001b[0m\u001b[0mkey\u001b[0m\u001b[0;34m)\u001b[0m\u001b[0;34m[\u001b[0m\u001b[0mmissing_mask\u001b[0m\u001b[0;34m.\u001b[0m\u001b[0mnonzero\u001b[0m\u001b[0;34m(\u001b[0m\u001b[0;34m)\u001b[0m\u001b[0;34m[\u001b[0m\u001b[0;36m0\u001b[0m\u001b[0;34m]\u001b[0m\u001b[0;34m]\u001b[0m\u001b[0;34m.\u001b[0m\u001b[0munique\u001b[0m\u001b[0;34m(\u001b[0m\u001b[0;34m)\u001b[0m\u001b[0;34m)\u001b[0m\u001b[0;34m\u001b[0m\u001b[0;34m\u001b[0m\u001b[0m\n\u001b[0;32m-> 6252\u001b[0;31m             \u001b[0;32mraise\u001b[0m \u001b[0mKeyError\u001b[0m\u001b[0;34m(\u001b[0m\u001b[0;34mf\"{not_found} not in index\"\u001b[0m\u001b[0;34m)\u001b[0m\u001b[0;34m\u001b[0m\u001b[0;34m\u001b[0m\u001b[0m\n\u001b[0m\u001b[1;32m   6253\u001b[0m \u001b[0;34m\u001b[0m\u001b[0m\n\u001b[1;32m   6254\u001b[0m     \u001b[0;34m@\u001b[0m\u001b[0moverload\u001b[0m\u001b[0;34m\u001b[0m\u001b[0;34m\u001b[0m\u001b[0m\n",
            "\u001b[0;31mKeyError\u001b[0m: '[9, 11, 18, 23, 27, 36, 37, 38, 53, 65, 69, 73, 75, 77, 78, 81, 83, 89, 94, 101, 102, 104, 120, 124, 125, 126, 131, 134, 143, 147, 151, 154, 163, 164, 166, 168, 169, 170, 174, 176, 188, 190, 192, 194, 198, 204, 207, 214, 217, 218, 219, 220, 221, 229, 243, 250, 253, 254, 256, 258, 259, 267, 268, 271, 282, 283, 286, 291, 293, 295, 296, 300, 304, 306, 309, 311, 313, 328, 329, 336, 337, 343, 346, 347, 348, 351, 352, 353, 355, 357, 359, 361, 366, 367, 371, 375, 376, 378, 380, 381, 388, 389, 394, 404, 405, 407, 409, 411, 413, 414, 428, 429, 430, 431, 432, 436, 439, 443, 446, 457, 458, 462, 465, 467, 470, 473, 479] not in index'"
          ]
        }
      ]
    }
  ]
}