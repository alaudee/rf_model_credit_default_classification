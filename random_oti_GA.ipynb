{
  "nbformat": 4,
  "nbformat_minor": 0,
  "metadata": {
    "colab": {
      "provenance": [],
      "authorship_tag": "ABX9TyP7WJA0iMMOCfmB5qwBNH6L",
      "include_colab_link": true
    },
    "kernelspec": {
      "name": "python3",
      "display_name": "Python 3"
    },
    "language_info": {
      "name": "python"
    }
  },
  "cells": [
    {
      "cell_type": "markdown",
      "metadata": {
        "id": "view-in-github",
        "colab_type": "text"
      },
      "source": [
        "<a href=\"https://colab.research.google.com/github/alaudee/rf_model_credit_default_classification/blob/main/random_oti_GA.ipynb\" target=\"_parent\"><img src=\"https://colab.research.google.com/assets/colab-badge.svg\" alt=\"Open In Colab\"/></a>"
      ]
    },
    {
      "cell_type": "code",
      "execution_count": null,
      "metadata": {
        "id": "jXcc3j_4CFe6"
      },
      "outputs": [],
      "source": [
        "import seaborn as sns\n",
        "import pandas as pd\n",
        "import matplotlib.pyplot as plt\n",
        "import numpy as np\n",
        "import plotly.express as px\n",
        "import pygad as pygad\n",
        "\n",
        "from sklearn.impute import SimpleImputer\n",
        "from scipy import stats\n",
        "from sklearn.compose import make_column_transformer\n",
        "from sklearn.preprocessing import OneHotEncoder\n",
        "from sklearn.preprocessing import StandardScaler\n",
        "from sklearn.preprocessing import RobustScaler\n",
        "from sklearn.model_selection import train_test_split\n",
        "from sklearn.metrics import recall_score\n",
        "from sklearn.ensemble import RandomForestClassifier\n",
        "from sklearn.model_selection import train_test_split, KFold, cross_val_score"
      ]
    },
    {
      "cell_type": "code",
      "source": [
        "arquivo_dat = 'australian.dat'\n",
        "arquivo_csv = 'australian.csv'\n",
        "\n",
        "columns_names = ['A1','A2','A3','A4','A5','A6','A7','A8','A9','A10','A11','A12','A13','A14','A15']\n",
        "\n",
        "df = pd.read_csv(arquivo_dat, sep='\\s+', header = None, names = columns_names)\n",
        "\n",
        "df.to_csv(arquivo_csv, index=False)\n",
        "\n",
        "print(f\"Arquivo '{arquivo_dat}' convertido para '{arquivo_csv}' com sucesso!\")\n",
        "\n",
        "base = pd.read_csv('australian.csv')"
      ],
      "metadata": {
        "colab": {
          "base_uri": "https://localhost:8080/"
        },
        "id": "xYGIf07Ny4VH",
        "outputId": "21107287-fed5-473d-9df6-0807b1f3b872"
      },
      "execution_count": null,
      "outputs": [
        {
          "output_type": "stream",
          "name": "stdout",
          "text": [
            "Arquivo 'australian.dat' convertido para 'australian.csv' com sucesso!\n"
          ]
        },
        {
          "output_type": "stream",
          "name": "stderr",
          "text": [
            "<>:6: SyntaxWarning: invalid escape sequence '\\s'\n",
            "<>:6: SyntaxWarning: invalid escape sequence '\\s'\n",
            "/tmp/ipython-input-3538067993.py:6: SyntaxWarning: invalid escape sequence '\\s'\n",
            "  df = pd.read_csv(arquivo_dat, sep='\\s+', header = None, names = columns_names)\n"
          ]
        }
      ]
    },
    {
      "cell_type": "code",
      "source": [
        "column_names = base.columns\n",
        "\n",
        "imputer = SimpleImputer(missing_values = np.nan, strategy='median')\n",
        "\n",
        "# Fit the imputer to the data and transform it\n",
        "imputed_base = imputer.fit_transform(base)\n",
        "\n",
        "imputed_base_df = pd.DataFrame(imputed_base, columns=column_names)\n",
        "\n",
        "print(\"Original Data:\\n\", base)\n",
        "print(\"\\nImputed Data:\\n\", imputed_base_df)"
      ],
      "metadata": {
        "colab": {
          "base_uri": "https://localhost:8080/"
        },
        "collapsed": true,
        "id": "aO8o6Oody58_",
        "outputId": "7ea57eb0-5970-47c1-aed0-ce7b6e2c10a4"
      },
      "execution_count": null,
      "outputs": [
        {
          "output_type": "stream",
          "name": "stdout",
          "text": [
            "Original Data:\n",
            "      A1     A2      A3  A4  A5  A6     A7  A8  A9  A10  A11  A12  A13   A14  \\\n",
            "0     1  22.08  11.460   2   4   4  1.585   0   0    0    1    2  100  1213   \n",
            "1     0  22.67   7.000   2   8   4  0.165   0   0    0    0    2  160     1   \n",
            "2     0  29.58   1.750   1   4   4  1.250   0   0    0    1    2  280     1   \n",
            "3     0  21.67  11.500   1   5   3  0.000   1   1   11    1    2    0     1   \n",
            "4     1  20.17   8.170   2   6   4  1.960   1   1   14    0    2   60   159   \n",
            "..   ..    ...     ...  ..  ..  ..    ...  ..  ..  ...  ...  ...  ...   ...   \n",
            "685   1  31.57  10.500   2  14   4  6.500   1   0    0    0    2    0     1   \n",
            "686   1  20.67   0.415   2   8   4  0.125   0   0    0    0    2    0    45   \n",
            "687   0  18.83   9.540   2   6   4  0.085   1   0    0    0    2  100     1   \n",
            "688   0  27.42  14.500   2  14   8  3.085   1   1    1    0    2  120    12   \n",
            "689   1  41.00   0.040   2  10   4  0.040   0   1    1    0    1  560     1   \n",
            "\n",
            "     A15  \n",
            "0      0  \n",
            "1      0  \n",
            "2      0  \n",
            "3      1  \n",
            "4      1  \n",
            "..   ...  \n",
            "685    1  \n",
            "686    0  \n",
            "687    1  \n",
            "688    1  \n",
            "689    1  \n",
            "\n",
            "[690 rows x 15 columns]\n",
            "\n",
            "Imputed Data:\n",
            "       A1     A2      A3   A4    A5   A6     A7   A8   A9   A10  A11  A12  \\\n",
            "0    1.0  22.08  11.460  2.0   4.0  4.0  1.585  0.0  0.0   0.0  1.0  2.0   \n",
            "1    0.0  22.67   7.000  2.0   8.0  4.0  0.165  0.0  0.0   0.0  0.0  2.0   \n",
            "2    0.0  29.58   1.750  1.0   4.0  4.0  1.250  0.0  0.0   0.0  1.0  2.0   \n",
            "3    0.0  21.67  11.500  1.0   5.0  3.0  0.000  1.0  1.0  11.0  1.0  2.0   \n",
            "4    1.0  20.17   8.170  2.0   6.0  4.0  1.960  1.0  1.0  14.0  0.0  2.0   \n",
            "..   ...    ...     ...  ...   ...  ...    ...  ...  ...   ...  ...  ...   \n",
            "685  1.0  31.57  10.500  2.0  14.0  4.0  6.500  1.0  0.0   0.0  0.0  2.0   \n",
            "686  1.0  20.67   0.415  2.0   8.0  4.0  0.125  0.0  0.0   0.0  0.0  2.0   \n",
            "687  0.0  18.83   9.540  2.0   6.0  4.0  0.085  1.0  0.0   0.0  0.0  2.0   \n",
            "688  0.0  27.42  14.500  2.0  14.0  8.0  3.085  1.0  1.0   1.0  0.0  2.0   \n",
            "689  1.0  41.00   0.040  2.0  10.0  4.0  0.040  0.0  1.0   1.0  0.0  1.0   \n",
            "\n",
            "       A13     A14  A15  \n",
            "0    100.0  1213.0  0.0  \n",
            "1    160.0     1.0  0.0  \n",
            "2    280.0     1.0  0.0  \n",
            "3      0.0     1.0  1.0  \n",
            "4     60.0   159.0  1.0  \n",
            "..     ...     ...  ...  \n",
            "685    0.0     1.0  1.0  \n",
            "686    0.0    45.0  0.0  \n",
            "687  100.0     1.0  1.0  \n",
            "688  120.0    12.0  1.0  \n",
            "689  560.0     1.0  1.0  \n",
            "\n",
            "[690 rows x 15 columns]\n"
          ]
        }
      ]
    },
    {
      "cell_type": "code",
      "source": [
        "X = imputed_base_df.drop('A15', axis=1)\n",
        "y = imputed_base_df['A15']\n",
        "\n",
        "# Dividir os dados em treino e teste com 30% para teste (test_size = 0.3)\n",
        "\n",
        "X_train, X_test, y_train, y_test = train_test_split(X, y, test_size = 0.3)\n",
        "\n",
        "'''\n",
        "Escalonamento dos dados\n",
        "'''\n",
        "\n",
        "# Inicializa scalers\n",
        "scaler = StandardScaler()\n",
        "\n",
        "scaler.fit(X_train)\n",
        "X_train = scaler.transform(X_train)\n",
        "X_test = scaler.transform(X_test)\n",
        "\n",
        "'''\n",
        "Transforma também os valores de y em arrays numpy\n",
        "para melhor manipulação por indexação por inteiros\n",
        "'''\n",
        "y_train = np.asarray(y_train)\n",
        "y_test = np.asarray(y_test)"
      ],
      "metadata": {
        "id": "swznVBgvzFON",
        "collapsed": true
      },
      "execution_count": null,
      "outputs": []
    },
    {
      "cell_type": "code",
      "source": [
        "# SEED para manter a replicabilidade do algoritmo\n",
        "# dict para armazenar os melhores hiperparametros p/ fold executada\n",
        "\n",
        "SEED = 5"
      ],
      "metadata": {
        "id": "wFVJxO3x2pUi"
      },
      "execution_count": null,
      "outputs": []
    },
    {
      "cell_type": "code",
      "source": [
        "'''\n",
        "Função para gerar um modelo do tipo RandomForestClassifier\n",
        "'''\n",
        "\n",
        "# macro para n instanciar muitas vezes\n",
        "TEMP_CRITERION = ''\n",
        "def create_rf_model(hyperparameters):\n",
        "  # converte a solucao de float para inteiro\n",
        "  solution = hyperparameters.astype(int)\n",
        "\n",
        "  '''\n",
        "  regra para poder variar entre valores para o hiperparâmetro\n",
        "  critetion = ['gini', 'entropy'], dado que nativamente pelo\n",
        "  atributo da classe pyGAD, gene_space não suporta tipo de dados\n",
        "  string\n",
        "  '''\n",
        "\n",
        "  if solution[4] == 1:\n",
        "    TEMP_CRITERION = 'gini'\n",
        "  elif solution[4] == 2:\n",
        "    TEMP_CRITERION = 'entropy'\n",
        "\n",
        "  rf = RandomForestClassifier(n_estimators=solution[0], max_depth=solution[1], min_samples_split=solution[2], min_samples_leaf=solution[3], criterion=TEMP_CRITERION, random_state=SEED)\n",
        "\n",
        "  return rf"
      ],
      "metadata": {
        "id": "fnWUqJeB1xrL"
      },
      "execution_count": null,
      "outputs": []
    },
    {
      "cell_type": "code",
      "source": [
        "'''\n",
        "Função fitness para otimização por AG\n",
        "utilizando técnica de cluster para\n",
        "acesso aos sub folds\n",
        "'''\n",
        "\n",
        "def make_fitness(X_all_values_idx, y_all_values_idx, inner_folds_list):\n",
        "  def fitness(ga_instance, solution, solution_idx):\n",
        "\n",
        "    scores = []\n",
        "\n",
        "    for inner_train_idx, inner_test_idx in inner_folds_list:\n",
        "\n",
        "      X_inner_train, X_inner_test = X_all_values_idx[inner_train_idx], X_all_values_idx[inner_test_idx]\n",
        "      y_inner_train, y_inner_test = y_all_values_idx[inner_train_idx], y_all_values_idx[inner_test_idx]\n",
        "\n",
        "      rf_model = create_rf_model(solution)\n",
        "\n",
        "      rf_model.fit(X_inner_train, y_inner_train)\n",
        "\n",
        "      y_inner_predicts = rf_model.predict(X_inner_test)\n",
        "\n",
        "      recall = recall_score(y_inner_test, y_inner_predicts)\n",
        "\n",
        "      scores.append(recall)\n",
        "\n",
        "    return np.mean(scores)\n",
        "\n",
        "  return fitness"
      ],
      "metadata": {
        "id": "pr_XiHoKZGxc"
      },
      "execution_count": null,
      "outputs": []
    },
    {
      "cell_type": "code",
      "source": [
        "'''\n",
        "Instanciação do modelo Random Forest sem otimização de hiperparâmetros\n",
        "'''\n",
        "\n",
        "rf_model = RandomForestClassifier(random_state = SEED)\n",
        "\n",
        "kf = KFold(n_splits=10, random_state = SEED, shuffle = True)\n",
        "kf_inner = KFold(n_splits = 2, random_state = SEED, shuffle = True)\n",
        "\n",
        "best_hyperparams_per_fold = {}\n",
        "\n",
        "for train_outer_index, test_outer_index in kf.split(X_train, y_train):\n",
        "\n",
        "    # Primeira divisão em 10 folds em cima dos 70% disponivel para treinamento\n",
        "    X_outer_train, X_outer_test = X_train[train_outer_index], X_train[test_outer_index]\n",
        "    y_outer_train, y_outer_test = y_train[train_outer_index], y_train[test_outer_index]\n",
        "\n",
        "    # Segunda divisão em 2 folds sobre a fold de treinamento\n",
        "    inner_folds_list = list(kf_inner.split(X_outer_train, y_outer_train))\n",
        "\n",
        "    fitness_fn = make_fitness(X_outer_train, y_outer_train, inner_folds_list)\n",
        "\n",
        "    ga_instance = pygad.GA(\n",
        "      num_generations=50,\n",
        "      num_parents_mating=4,\n",
        "      fitness_func=fitness_fn,\n",
        "      sol_per_pop=10,\n",
        "      num_genes=5,\n",
        "      gene_space=[range(50, 201), range(10, 20), range(5, 51), range(5, 51), [1, 2]],\n",
        "      parent_selection_type=\"tournament\",\n",
        "      crossover_type=\"uniform\",\n",
        "      mutation_type=\"random\",\n",
        "      mutation_percent_genes=15\n",
        "    )\n",
        "\n",
        "    ga_instance.run()\n",
        "\n",
        "    solution, solution_fitness, solution_idx = ga_instance.best_solution()\n",
        "\n",
        "    rf_model_optimized = create_rf_model(solution)\n",
        "\n",
        "    rf_model_optimized.fit(X_outer_train, y_outer_train)\n",
        "\n",
        "    y_outer_predicts = rf_model_optimized.predict(X_outer_test)\n",
        "\n",
        "    recall_score_outer = recall_score(y_outer_test, y_outer_predicts)\n",
        "\n",
        "    # Armazena em um dicionario valor de revocação e solução\n",
        "    # para posteriormente recuperar os melhores valores\n",
        "    best_hyperparams_per_fold[recall_score_outer] = solution"
      ],
      "metadata": {
        "colab": {
          "base_uri": "https://localhost:8080/"
        },
        "collapsed": true,
        "id": "TbmGmUMWzJEb",
        "outputId": "30e5db41-793a-4e9c-88c3-800c0817a644"
      },
      "execution_count": null,
      "outputs": [
        {
          "output_type": "stream",
          "name": "stderr",
          "text": [
            "/usr/local/lib/python3.12/dist-packages/pygad/pygad.py:753: UserWarning: The percentage of genes to mutate (mutation_percent_genes=15) resulted in selecting (0) genes. The number of genes to mutate is set to 1 (mutation_num_genes=1).\n",
            "If you do not want to mutate any gene, please set mutation_type=None.\n",
            "  warnings.warn(f\"The percentage of genes to mutate (mutation_percent_genes={mutation_percent_genes}) resulted in selecting ({mutation_num_genes}) genes. The number of genes to mutate is set to 1 (mutation_num_genes=1).\\nIf you do not want to mutate any gene, please set mutation_type=None.\")\n",
            "/usr/local/lib/python3.12/dist-packages/pygad/pygad.py:753: UserWarning: The percentage of genes to mutate (mutation_percent_genes=15) resulted in selecting (0) genes. The number of genes to mutate is set to 1 (mutation_num_genes=1).\n",
            "If you do not want to mutate any gene, please set mutation_type=None.\n",
            "  warnings.warn(f\"The percentage of genes to mutate (mutation_percent_genes={mutation_percent_genes}) resulted in selecting ({mutation_num_genes}) genes. The number of genes to mutate is set to 1 (mutation_num_genes=1).\\nIf you do not want to mutate any gene, please set mutation_type=None.\")\n",
            "/usr/local/lib/python3.12/dist-packages/pygad/pygad.py:753: UserWarning: The percentage of genes to mutate (mutation_percent_genes=15) resulted in selecting (0) genes. The number of genes to mutate is set to 1 (mutation_num_genes=1).\n",
            "If you do not want to mutate any gene, please set mutation_type=None.\n",
            "  warnings.warn(f\"The percentage of genes to mutate (mutation_percent_genes={mutation_percent_genes}) resulted in selecting ({mutation_num_genes}) genes. The number of genes to mutate is set to 1 (mutation_num_genes=1).\\nIf you do not want to mutate any gene, please set mutation_type=None.\")\n",
            "/usr/local/lib/python3.12/dist-packages/pygad/pygad.py:753: UserWarning: The percentage of genes to mutate (mutation_percent_genes=15) resulted in selecting (0) genes. The number of genes to mutate is set to 1 (mutation_num_genes=1).\n",
            "If you do not want to mutate any gene, please set mutation_type=None.\n",
            "  warnings.warn(f\"The percentage of genes to mutate (mutation_percent_genes={mutation_percent_genes}) resulted in selecting ({mutation_num_genes}) genes. The number of genes to mutate is set to 1 (mutation_num_genes=1).\\nIf you do not want to mutate any gene, please set mutation_type=None.\")\n",
            "/usr/local/lib/python3.12/dist-packages/pygad/pygad.py:753: UserWarning: The percentage of genes to mutate (mutation_percent_genes=15) resulted in selecting (0) genes. The number of genes to mutate is set to 1 (mutation_num_genes=1).\n",
            "If you do not want to mutate any gene, please set mutation_type=None.\n",
            "  warnings.warn(f\"The percentage of genes to mutate (mutation_percent_genes={mutation_percent_genes}) resulted in selecting ({mutation_num_genes}) genes. The number of genes to mutate is set to 1 (mutation_num_genes=1).\\nIf you do not want to mutate any gene, please set mutation_type=None.\")\n",
            "/usr/local/lib/python3.12/dist-packages/pygad/pygad.py:753: UserWarning: The percentage of genes to mutate (mutation_percent_genes=15) resulted in selecting (0) genes. The number of genes to mutate is set to 1 (mutation_num_genes=1).\n",
            "If you do not want to mutate any gene, please set mutation_type=None.\n",
            "  warnings.warn(f\"The percentage of genes to mutate (mutation_percent_genes={mutation_percent_genes}) resulted in selecting ({mutation_num_genes}) genes. The number of genes to mutate is set to 1 (mutation_num_genes=1).\\nIf you do not want to mutate any gene, please set mutation_type=None.\")\n",
            "/usr/local/lib/python3.12/dist-packages/pygad/pygad.py:753: UserWarning: The percentage of genes to mutate (mutation_percent_genes=15) resulted in selecting (0) genes. The number of genes to mutate is set to 1 (mutation_num_genes=1).\n",
            "If you do not want to mutate any gene, please set mutation_type=None.\n",
            "  warnings.warn(f\"The percentage of genes to mutate (mutation_percent_genes={mutation_percent_genes}) resulted in selecting ({mutation_num_genes}) genes. The number of genes to mutate is set to 1 (mutation_num_genes=1).\\nIf you do not want to mutate any gene, please set mutation_type=None.\")\n",
            "/usr/local/lib/python3.12/dist-packages/pygad/pygad.py:753: UserWarning: The percentage of genes to mutate (mutation_percent_genes=15) resulted in selecting (0) genes. The number of genes to mutate is set to 1 (mutation_num_genes=1).\n",
            "If you do not want to mutate any gene, please set mutation_type=None.\n",
            "  warnings.warn(f\"The percentage of genes to mutate (mutation_percent_genes={mutation_percent_genes}) resulted in selecting ({mutation_num_genes}) genes. The number of genes to mutate is set to 1 (mutation_num_genes=1).\\nIf you do not want to mutate any gene, please set mutation_type=None.\")\n",
            "/usr/local/lib/python3.12/dist-packages/pygad/pygad.py:753: UserWarning: The percentage of genes to mutate (mutation_percent_genes=15) resulted in selecting (0) genes. The number of genes to mutate is set to 1 (mutation_num_genes=1).\n",
            "If you do not want to mutate any gene, please set mutation_type=None.\n",
            "  warnings.warn(f\"The percentage of genes to mutate (mutation_percent_genes={mutation_percent_genes}) resulted in selecting ({mutation_num_genes}) genes. The number of genes to mutate is set to 1 (mutation_num_genes=1).\\nIf you do not want to mutate any gene, please set mutation_type=None.\")\n",
            "/usr/local/lib/python3.12/dist-packages/pygad/pygad.py:753: UserWarning: The percentage of genes to mutate (mutation_percent_genes=15) resulted in selecting (0) genes. The number of genes to mutate is set to 1 (mutation_num_genes=1).\n",
            "If you do not want to mutate any gene, please set mutation_type=None.\n",
            "  warnings.warn(f\"The percentage of genes to mutate (mutation_percent_genes={mutation_percent_genes}) resulted in selecting ({mutation_num_genes}) genes. The number of genes to mutate is set to 1 (mutation_num_genes=1).\\nIf you do not want to mutate any gene, please set mutation_type=None.\")\n"
          ]
        },
        {
          "output_type": "stream",
          "name": "stdout",
          "text": [
            "{0.8571428571428571: array([141.,  12.,  47.,   7.,   2.]), 0.9090909090909091: array([155.,  14.,  45.,   5.,   1.]), 0.8: array([83., 13., 12.,  5.,  1.]), 0.7692307692307693: array([108.,  17.,  14.,   5.,   1.]), 0.8695652173913043: array([109.,  14.,  48.,   9.,   1.]), 0.85: array([143.,  17.,  49.,  12.,   1.]), 0.6666666666666666: array([74., 19., 40.,  8.,  1.]), 0.7619047619047619: array([138.,  10.,  35.,  10.,   1.]), 0.8461538461538461: array([96., 13., 10.,  5.,  2.])}\n"
          ]
        }
      ]
    },
    {
      "cell_type": "code",
      "source": [
        "best_key_hyperparameters = max(best_hyperparams_per_fold)\n",
        "\n",
        "best_hyperparameters = best_hyperparams_per_fold[best_key_hyperparameters]\n",
        "\n",
        "# Modelo final com os melhores hiperparametros encontrados\n",
        "rf_model_final = create_rf_model(best_hyperparameters)\n",
        "\n",
        "rf_model_final.fit(X_train, y_train)\n",
        "\n",
        "y_predicts = rf_model_final.predict(X_test)"
      ],
      "metadata": {
        "id": "cR6_DcxmDmly"
      },
      "execution_count": null,
      "outputs": []
    },
    {
      "cell_type": "code",
      "source": [
        "# Métricas finais com otimização por AG\n",
        "\n",
        "accuracy = accuracy_score(y_test, y_predict)\n",
        "precision = precision_score(y_test, y_predict, average = 'weighted')\n",
        "recall = recall_score(y_test, y_predict, average = 'weighted')\n",
        "f1 = f1_score(y_test, y_predict, average = 'weighted')\n",
        "print(f'Acurácia : {accuracy}, Precisão : {precision}, Recall : {recall}, F1 : {f1}')\n",
        "\n",
        "report = classification_report(y_test, y_predict)\n",
        "print(report)"
      ],
      "metadata": {
        "id": "D4OHHCRQZISM"
      },
      "execution_count": null,
      "outputs": []
    }
  ]
}